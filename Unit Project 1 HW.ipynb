{
 "cells": [
  {
   "cell_type": "markdown",
   "metadata": {
    "collapsed": true
   },
   "source": [
    "##Problem Statement:\n",
    "\n",
    "Goal is to identify the number of factors that may influence admission into graduate school"
   ]
  },
  {
   "cell_type": "markdown",
   "metadata": {},
   "source": [
    "##Identify features of the dataset, including the outcome and covariates/predictors\n",
    "\n",
    "Outcome:\n",
    "1. Admit\n",
    "\n",
    "Predictors include:\n",
    "1. GPA\n",
    "2. GRE Score\n",
    "3. Prestige"
   ]
  },
  {
   "cell_type": "markdown",
   "metadata": {},
   "source": [
    "##Data Dictionary\n",
    "\n",
    "Variable\tDescription\t                     Type of Variable\n",
    "GPA     \tGrade Point Average up to 4\t     predictor\n",
    "GRE Score\tTest Score up to 800             predictor\n",
    "Prestige    Between 1 and 4                  predictor"
   ]
  },
  {
   "cell_type": "markdown",
   "metadata": {},
   "source": [
    "##Risks and Assumptions of Data\n",
    "\n",
    "1. For GBP, assuming all students took the same classes/courses at the same school\n",
    "2. For GRE Score, assuming all students took the test in the same location and had the same amount of time to take the test"
   ]
  },
  {
   "cell_type": "markdown",
   "metadata": {},
   "source": [
    "##Exploratory Analysis Method:\n",
    "\n",
    "1. Create a Histogram"
   ]
  }
 ],
 "metadata": {
  "kernelspec": {
   "display_name": "Python 2",
   "language": "python",
   "name": "python2"
  },
  "language_info": {
   "codemirror_mode": {
    "name": "ipython",
    "version": 2
   },
   "file_extension": ".py",
   "mimetype": "text/x-python",
   "name": "python",
   "nbconvert_exporter": "python",
   "pygments_lexer": "ipython2",
   "version": "2.7.13"
  }
 },
 "nbformat": 4,
 "nbformat_minor": 2
}
